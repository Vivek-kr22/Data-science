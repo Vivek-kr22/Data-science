{
 "cells": [
  {
   "cell_type": "markdown",
   "id": "12f29e1d-fb5e-42a8-b365-98e0b45a51bf",
   "metadata": {},
   "source": [
    "left half pyramid"
   ]
  },
  {
   "cell_type": "code",
   "execution_count": 1,
   "id": "25b2fbbe-2cc5-4af8-99b9-9ec5efa405b0",
   "metadata": {},
   "outputs": [
    {
     "name": "stdout",
     "output_type": "stream",
     "text": [
      "*\n"
     ]
    }
   ],
   "source": [
    "print('*')"
   ]
  },
  {
   "cell_type": "code",
   "execution_count": 2,
   "id": "66c58e47-cd73-490d-a6c7-c81016875d24",
   "metadata": {},
   "outputs": [
    {
     "name": "stdout",
     "output_type": "stream",
     "text": [
      "*****"
     ]
    }
   ],
   "source": [
    "for i in range (5):\n",
    "    print ('*', end ='')"
   ]
  },
  {
   "cell_type": "code",
   "execution_count": 3,
   "id": "b3224386-08b7-40a0-9155-423af1fbe887",
   "metadata": {},
   "outputs": [
    {
     "name": "stdout",
     "output_type": "stream",
     "text": [
      "*\n",
      "**\n",
      "***\n",
      "****\n",
      "*****\n"
     ]
    }
   ],
   "source": [
    "for i in range (5):\n",
    "    for j in range (i+1):\n",
    "        print('*',end ='')\n",
    "    print()"
   ]
  },
  {
   "cell_type": "markdown",
   "id": "a0f4e765-6c05-47a5-8236-a418e1755e3b",
   "metadata": {},
   "source": [
    "# downward left half pyramid\n"
   ]
  },
  {
   "cell_type": "code",
   "execution_count": 19,
   "id": "16f2f845-7499-4330-8471-8ac575df800e",
   "metadata": {},
   "outputs": [
    {
     "name": "stdout",
     "output_type": "stream",
     "text": [
      "*****\n",
      "****\n",
      "***\n",
      "**\n",
      "*\n"
     ]
    }
   ],
   "source": [
    "for i in range (5):\n",
    "    for j in range (i,5):\n",
    "        print('*',end ='')\n",
    "    print()"
   ]
  },
  {
   "cell_type": "markdown",
   "id": "37745700-4567-4ba6-b28b-fc9cb4a69edb",
   "metadata": {},
   "source": [
    " Right half pyramid"
   ]
  },
  {
   "cell_type": "code",
   "execution_count": 43,
   "id": "05846f25-9783-4e99-b43e-a39a9323d324",
   "metadata": {},
   "outputs": [
    {
     "name": "stdout",
     "output_type": "stream",
     "text": [
      "####*\n",
      "###**\n",
      "##***\n",
      "#****\n",
      "*****\n"
     ]
    }
   ],
   "source": [
    "for i in range(5):\n",
    "    for j in range (i+1,5):\n",
    "        print ('#',end ='')\n",
    "    for j in range(i+1):\n",
    "        print ('*',end= \"\")\n",
    "    print ()"
   ]
  },
  {
   "cell_type": "markdown",
   "id": "376ae74d-2bf9-4124-b782-98b4201bf479",
   "metadata": {},
   "source": [
    "downward pyramid"
   ]
  },
  {
   "cell_type": "code",
   "execution_count": 38,
   "id": "b5685b21-3e1f-44c5-9397-a3b9b29930ee",
   "metadata": {},
   "outputs": [
    {
     "name": "stdout",
     "output_type": "stream",
     "text": [
      "*****\n",
      "#****\n",
      "##***\n",
      "###**\n",
      "####*\n"
     ]
    }
   ],
   "source": [
    "for i in range (5):\n",
    "    for j in range (i):\n",
    "        print('#',end ='')\n",
    "    for j in range (i,5):\n",
    "        print ('*',end='')\n",
    "    print()"
   ]
  },
  {
   "cell_type": "markdown",
   "id": "b53429ed-51c8-4a2e-9a51-7cafb14fe31f",
   "metadata": {},
   "source": [
    "whole pyra,id or hill pattern"
   ]
  },
  {
   "cell_type": "code",
   "execution_count": 67,
   "id": "4bf5abae-c6db-4a6d-a817-ab82d8f2844a",
   "metadata": {},
   "outputs": [
    {
     "name": "stdout",
     "output_type": "stream",
     "text": [
      "     *\n",
      "    ***\n",
      "   *****\n",
      "  *******\n",
      " *********\n"
     ]
    }
   ],
   "source": [
    "for i in range (5):\n",
    "    for j in range (i,5):\n",
    "        print (' ',end= '')\n",
    "    for j in range (i+1):\n",
    "        print('*',end ='')\n",
    "    for j in range (i):\n",
    "        print ('*',end ='')\n",
    "    print()"
   ]
  },
  {
   "cell_type": "markdown",
   "id": "4af84d59-8b8c-4c59-aff8-7184c5df4b2f",
   "metadata": {},
   "source": [
    "Downward pyramid"
   ]
  },
  {
   "cell_type": "code",
   "execution_count": 61,
   "id": "6b994135-2126-41ab-b2b2-8b2bfb1a6532",
   "metadata": {},
   "outputs": [
    {
     "name": "stdout",
     "output_type": "stream",
     "text": [
      " *********\n",
      "  *******\n",
      "   *****\n",
      "    ***\n",
      "     *\n"
     ]
    }
   ],
   "source": [
    "for i in range (5):\n",
    "    for j in range (i+1):\n",
    "        print (' ',end ='')\n",
    "    for j in range(i+1,5):\n",
    "        print ('*',end ='')\n",
    "    for j in range (i,5):\n",
    "        print ('*',end ='')\n",
    "    print ()"
   ]
  },
  {
   "cell_type": "markdown",
   "id": "efcc1d5d-35a1-4cfc-a27e-ee94365ed728",
   "metadata": {},
   "source": [
    "# Diamond pattern"
   ]
  },
  {
   "cell_type": "code",
   "execution_count": 74,
   "id": "2af3f175-99ef-4441-a563-8a7aa27e7426",
   "metadata": {},
   "outputs": [
    {
     "name": "stdout",
     "output_type": "stream",
     "text": [
      "    *\n",
      "   ***\n",
      "  *****\n",
      " *******\n",
      "*********\n",
      " *******\n",
      "  *****\n",
      "   ***\n",
      "    *\n"
     ]
    }
   ],
   "source": [
    "for i in range (5):\n",
    "    for j in range (i+1,5):\n",
    "        print (' ',end= '')\n",
    "    for j in range (i+1):\n",
    "        print('*',end ='')\n",
    "    for j in range (i):\n",
    "        print ('*',end ='')\n",
    "    print()\n",
    "for i in range (4):\n",
    "    for j in range (i+1):\n",
    "        print (' ',end ='')\n",
    "    for j in range(i,4):\n",
    "        print ('*',end ='')\n",
    "    for j in range (i+1,4):\n",
    "        print ('*',end ='')\n",
    "    print ()"
   ]
  },
  {
   "cell_type": "code",
   "execution_count": null,
   "id": "d445dce2-8763-4650-ad27-8399ec5cb495",
   "metadata": {},
   "outputs": [],
   "source": []
  }
 ],
 "metadata": {
  "kernelspec": {
   "display_name": "Python 3 (ipykernel)",
   "language": "python",
   "name": "python3"
  },
  "language_info": {
   "codemirror_mode": {
    "name": "ipython",
    "version": 3
   },
   "file_extension": ".py",
   "mimetype": "text/x-python",
   "name": "python",
   "nbconvert_exporter": "python",
   "pygments_lexer": "ipython3",
   "version": "3.10.8"
  }
 },
 "nbformat": 4,
 "nbformat_minor": 5
}
